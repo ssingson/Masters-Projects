{
 "cells": [
  {
   "cell_type": "code",
   "execution_count": 1,
   "id": "4889e6b1",
   "metadata": {},
   "outputs": [
    {
     "name": "stdout",
     "output_type": "stream",
     "text": [
      "Requirement already satisfied: imbalanced-learn in ./opt/anaconda3/lib/python3.9/site-packages (0.9.0)\n",
      "Requirement already satisfied: joblib>=0.11 in ./opt/anaconda3/lib/python3.9/site-packages (from imbalanced-learn) (1.1.0)\n",
      "Requirement already satisfied: threadpoolctl>=2.0.0 in ./opt/anaconda3/lib/python3.9/site-packages (from imbalanced-learn) (2.2.0)\n",
      "Requirement already satisfied: scipy>=1.1.0 in ./opt/anaconda3/lib/python3.9/site-packages (from imbalanced-learn) (1.7.1)\n",
      "Requirement already satisfied: scikit-learn>=1.0.1 in ./opt/anaconda3/lib/python3.9/site-packages (from imbalanced-learn) (1.0.2)\n",
      "Requirement already satisfied: numpy>=1.14.6 in ./opt/anaconda3/lib/python3.9/site-packages (from imbalanced-learn) (1.20.3)\n",
      "Note: you may need to restart the kernel to use updated packages.\n"
     ]
    }
   ],
   "source": [
    "pip install -U imbalanced-learn"
   ]
  },
  {
   "cell_type": "code",
   "execution_count": 2,
   "id": "81b5b706",
   "metadata": {},
   "outputs": [],
   "source": [
    "import pandas as pd \n",
    "import numpy as np\n",
    "from sklearn import preprocessing\n",
    "import seaborn as sb\n",
    "import matplotlib.pyplot as plt\n",
    "import math\n",
    "from sklearn.decomposition import KernelPCA, PCA\n",
    "from imblearn.over_sampling import RandomOverSampler\n",
    "import time\n",
    "from datetime import timedelta\n"
   ]
  },
  {
   "cell_type": "markdown",
   "id": "d92f34b5",
   "metadata": {},
   "source": [
    "# Cleaning and Normalizing the Data"
   ]
  },
  {
   "cell_type": "code",
   "execution_count": 3,
   "id": "8bc070c6",
   "metadata": {},
   "outputs": [],
   "source": [
    "#Pull csv file in, change to numpy type\n",
    "bc_data = pd.read_csv('/Users/ssingson-robbins/Desktop/breast-cancer.csv').to_numpy()\n",
    "\n",
    "#remove ID columns since not a dimension\n",
    "bc_data = np.delete(bc_data, 0, 1)\n",
    "\n",
    "#replace 'benign' and 'malignant' to -1 and 1, respectively, to more align with SVM model \n",
    "bc_data = np.select([bc_data == 'B', bc_data == 'M'], [-1,1], bc_data)\n",
    "\n",
    "#separate classifier from the data\n",
    "y_bc_data = bc_data[:,0]\n",
    "x_bc_data = bc_data[:, 1:len(bc_data)]\n",
    "\n",
    "# Normalize the data \n",
    "# #x_bc_data = (x_bc_data - x_bc_data.mean(axis=0)) / x_bc_data.std(axis=0)\n",
    "for i in range(len(x_bc_data[0,:])): \n",
    "    x_bc_data[:, i] = (x_bc_data[:, i] - x_bc_data[:, i].mean(axis=0)) / x_bc_data[:, i].std()"
   ]
  },
  {
   "cell_type": "markdown",
   "id": "47719558",
   "metadata": {},
   "source": [
    "# Split Training and Test Data"
   ]
  },
  {
   "cell_type": "code",
   "execution_count": 4,
   "id": "b87ad9cf",
   "metadata": {},
   "outputs": [
    {
     "data": {
      "text/plain": [
       "(57,)"
      ]
     },
     "execution_count": 4,
     "metadata": {},
     "output_type": "execute_result"
    }
   ],
   "source": [
    "#split up test vs training data\n",
    "from sklearn.model_selection import train_test_split\n",
    "\n",
    "#10% for validating the data, 10% for testing the final model \n",
    "X_train, X_test, y_train, y_test = train_test_split(x_bc_data, y_bc_data, test_size=0.2, stratify=y_bc_data, random_state=0)\n",
    "X_test, X_validation, y_test, y_validation = train_test_split(X_test, y_test, test_size=0.5, stratify=y_test, random_state=0)\n",
    "\n",
    "#ros = RandomOverSampler(sampling_strategy = 'minority', random_state=0)\n",
    "#X_train, y_train = ros.fit_resample(X_train, y_train.astype('int'))\n",
    "\n",
    "y_test.shape\n"
   ]
  },
  {
   "cell_type": "markdown",
   "id": "b50174a3",
   "metadata": {},
   "source": [
    "# PCA Intro Chart"
   ]
  },
  {
   "cell_type": "code",
   "execution_count": 5,
   "id": "8de45498",
   "metadata": {},
   "outputs": [
    {
     "name": "stdout",
     "output_type": "stream",
     "text": [
      "[0.44615484 0.63030182 0.73023885 0.79494282 0.84891863 0.88659624\n",
      " 0.91037509 0.92617983 0.9405877  0.95226626]\n"
     ]
    },
    {
     "data": {
      "text/plain": [
       "[<matplotlib.lines.Line2D at 0x7fdfec7f8460>]"
      ]
     },
     "execution_count": 5,
     "metadata": {},
     "output_type": "execute_result"
    },
    {
     "data": {
      "image/png": "[encoded data removed]",
      "text/plain": [
       "<Figure size 432x288 with 1 Axes>"
      ]
     },
     "metadata": {
      "needs_background": "light"
     },
     "output_type": "display_data"
    }
   ],
   "source": [
    "#PCA Analysis, equivalent of KernelPCA with the 'linear' Kernel\n",
    "\n",
    "pca = PCA(n_components = 10)\n",
    "new_data = pca.fit_transform(X_train)\n",
    "\n",
    "print(pca.explained_variance_ratio_.cumsum())\n",
    "plt.plot(pca.explained_variance_ratio_.cumsum())\n",
    "\n",
    "\n",
    "# In the paper, explain how it's a different feature space so didn't include charts for other kernels but will used\n",
    "# for different model and performance\n",
    "\n",
    "\n",
    "    "
   ]
  },
  {
   "cell_type": "markdown",
   "id": "a11b7107",
   "metadata": {},
   "source": [
    "# Model Functions"
   ]
  },
  {
   "cell_type": "code",
   "execution_count": 6,
   "id": "c93802d0",
   "metadata": {},
   "outputs": [],
   "source": [
    "#find sum of positive and negative classes, make summation equal by shrinking the lower values proportionally\n",
    "def regularize_alphas(y_train, a): \n",
    "    #pushes down examples with negative a's to 0 \n",
    "    a = np.maximum(a, 0)\n",
    "    \n",
    "    if np.abs(np.minimum(a * y_train,0)).sum() > 0: \n",
    "        sum_ratio = np.maximum(a * y_train,0).sum() / np.abs(np.minimum(a * y_train,0)).sum()\n",
    "\n",
    "        # ratios the negative class items so that they're equal with the positive class when summed up separately \n",
    "        a = np.multiply(a, np.where(y_train == -1, sum_ratio,1))\n",
    "    else: \n",
    "        a = 0 * a\n",
    "    return a\n",
    "\n",
    "test = np.ones(len(X_train))\n",
    "a = regularize_alphas(y_train, test)\n"
   ]
  },
  {
   "cell_type": "code",
   "execution_count": 7,
   "id": "0c83fafb",
   "metadata": {},
   "outputs": [],
   "source": [
    "# SVM Model from scratch \n",
    "def SVM_scratch(X_train, y_train, SVM_Kernel = 'linear', slack_variable = 'no'):\n",
    "    #base Lagrange: max[a] of sum(a[j]) - ((1/2) sum[i,j](y[i]*y[j])*a[i]*a[j]*K(x[i], x[j]))\n",
    "    #base gradient descent: learning rate[0.001] * (1 - y[i] * y[j] * K(x[i], x[j]) * a[i?j?])\n",
    "    \n",
    "    #sets which kernel to user \n",
    "    if SVM_Kernel == 'linear': \n",
    "        K = np.dot(X_train, X_train.transpose())\n",
    "    elif SVM_Kernel == 'rbf': \n",
    "        K = np.zeros([len(X_train), len(X_train)])\n",
    "        for i in range(len(X_train)): \n",
    "            for j in range(len(X_train)): \n",
    "                K[i,j] = math.e ** (-0.5 * ((X_train[i] - X_train[j]) ** 2).sum())\n",
    "    else:\n",
    "        print('Only options allowed are linear and rbf.')\n",
    "        return 'Error'\n",
    "    \n",
    "    #creates a yi * yb matrix for every combo of examples\n",
    "    Y = np.dot(y_train[:, np.newaxis], y_train[np.newaxis])\n",
    "    \n",
    "    a = np.ones(len(X_train))\n",
    "    a = regularize_alphas(y_train, a)\n",
    "\n",
    "    #gradient descent of the alpha values\n",
    "    for i in range(100):\n",
    "        #adds a slack variable \n",
    "        if slack_variable == 'no': \n",
    "            misaligned = 0\n",
    "            slack_descent = 0\n",
    "        else: \n",
    "            misaligned = (np.sign(np.dot(X_train, np.dot((a * y_train), X_train))) != y_train)\n",
    "            \n",
    "            if slack_variable == 'linear':\n",
    "                slack_descent = - y_train * (np.dot((y_train), X_train) * X_train).sum(axis=1) * misaligned\n",
    "                \n",
    "            elif slack_variable == 'squared':\n",
    "                slack_descent = 2 * (1 - (y_train * (np.dot((a * y_train), X_train) * X_train).sum(axis=1))) * -(y_train * (np.dot(y_train, X_train) * X_train).sum(axis=1)) * misaligned\n",
    "            else: \n",
    "                print('Only options allowed are no, linear, and squared.')\n",
    "                return 'Error'\n",
    "\n",
    "        a = a + 0.001 * (1 - np.dot(Y*K,a)) + 0.002 * slack_descent\n",
    "        a = regularize_alphas(y_train, a) \n",
    "\n",
    "    w = np.dot((a * y_train), X_train) \n",
    "    return a, w #returns the alpha values, weights, and loss per round "
   ]
  },
  {
   "cell_type": "markdown",
   "id": "cb12920e",
   "metadata": {},
   "source": [
    "# Prediction Model Object Creator"
   ]
  },
  {
   "cell_type": "code",
   "execution_count": 8,
   "id": "f21676e7",
   "metadata": {},
   "outputs": [],
   "source": [
    "class predictionModel():\n",
    "    def __init__(self, weights, alphas, PCA_model, PCA_Kernel, PCA_components, SVM_Kernel, slack_variable):\n",
    "        self.name = 'PCA + SVM Model: ' + str(PCA_Kernel) + ' PCA Kernel with ' + str(PCA_components) + ' components, ' + str(SVM_Kernel) + ' SVM Kernel with ' + str(slack_variable) + ' slack variable' \n",
    "        self.PCA_model = PCA_model\n",
    "        self.PCA_Kernel = PCA_Kernel\n",
    "        self.PCA_components = PCA_components\n",
    "        self.SVM_Kernel = SVM_Kernel\n",
    "        self.slack_variable = slack_variable\n",
    "        self.weights = weights\n",
    "        self.support_vectors = (alphas > 0).sum()\n",
    "    \n",
    "    def accuracy(self, X_test, y_test): \n",
    "        kpca_test_data = kpca.transform(X_test)\n",
    "        \n",
    "\n",
    "        \n",
    "        data = np.dot(kpca_test_data, self.weights)\n",
    "\n",
    "        if self.slack_variable == 'linear': \n",
    "            data += 0.2 * np.minimum(1, np.maximum(0, 1 - y_test * data))\n",
    "        if self.slack_variable == 'squared':\n",
    "            data += 0.2 * (np.minimum(1, np.maximum(0, 1 - y_test * data)) ** 2)\n",
    "            \n",
    "        accuracy = np.zeros(len(data))\n",
    "        for i in range(len(data)): \n",
    "            if np.abs(data[i]) < 1: \n",
    "                accuracy[i] = -1\n",
    "            elif np.sign(data[i]) == y_test[i]: \n",
    "                accuracy[i] = 1\n",
    "            else:\n",
    "                accuracy[i] = 0\n",
    "        return (accuracy == 1).sum() / len(accuracy)\n",
    "    \n",
    "    def performance_results(self, X_test,y_test): \n",
    "        kpca_test_data = self.PCA_model.transform(X_test)\n",
    "        \n",
    "        data = np.dot(kpca_test_data, self.weights)        \n",
    "        \n",
    "        if self.slack_variable == 'linear': \n",
    "            data += 0.2 * np.minimum(1, np.maximum(0, 1 - y_test * data))\n",
    "        if self.slack_variable == 'squared':\n",
    "            data += 0.2 * (np.minimum(1, np.maximum(0, 1 - y_test * data)) ** 2)\n",
    "                \n",
    "        accuracy = np.zeros(len(data))\n",
    "        for i in range(len(data)): \n",
    "            if np.abs(data[i]) < 1: \n",
    "                accuracy[i] = -1\n",
    "            elif np.sign(data[i]) == y_test[i]: \n",
    "                accuracy[i] = 1\n",
    "            else:\n",
    "                accuracy[i] = 0\n",
    "        exs_unid = (accuracy == -1).sum()\n",
    "        exs_incorrect = (accuracy == 0).sum()\n",
    "        exs_correct = (accuracy == 1).sum()\n",
    "        return exs_unid, exs_incorrect, exs_correct\n",
    "    \n",
    "    def predict(self, x_test): \n",
    "        if len(x_test.shape) == 1: \n",
    "            x_test = x_test[np.newaxis,:]\n",
    "            \n",
    "        kpca_test_data = self.PCA_model.transform(x_test)\n",
    "\n",
    "        model_value = np.dot(new_data, w)\n",
    "\n",
    "        predicted_values = []\n",
    "        for i in range(len(model_value)): \n",
    "            if model_value[i] >= 1: \n",
    "                predicted_values.append('Malignant')\n",
    "            if model_value <= -1: \n",
    "                predicted_values.append('Benign')\n",
    "            else: \n",
    "                predicted_values.append('Unidentifiable')\n",
    "\n",
    "    #Chart loss\n",
    "        \n",
    "    "
   ]
  },
  {
   "cell_type": "markdown",
   "id": "8d038cfa",
   "metadata": {},
   "source": [
    "# Run of All the Model Iterations"
   ]
  },
  {
   "cell_type": "code",
   "execution_count": 14,
   "id": "167b9fa6",
   "metadata": {},
   "outputs": [
    {
     "name": "stdout",
     "output_type": "stream",
     "text": [
      "0:07:31.925276\n",
      "0:00:01.883022\n"
     ]
    }
   ],
   "source": [
    "#Run through of all 240 models; checks time to run the models \n",
    "start_time = time.monotonic()\n",
    "\n",
    "model_runs = []    \n",
    "\n",
    "for PCA_components in range(1, 11, 1): \n",
    "    for PCA_Kernel in ['linear', 'poly', 'rbf', 'sigmoid']: \n",
    "   \n",
    "        kpca = KernelPCA(n_components = PCA_components, kernel = PCA_Kernel)\n",
    "        kpca_data = kpca.fit_transform(X_train) \n",
    "        \n",
    "        for SVM_Kernel in ['linear', 'rbf']: \n",
    "            for slack_variable in ['no', 'linear', 'squared']: \n",
    "              \n",
    "\n",
    "                a,w = SVM_scratch(kpca_data, y_train, SVM_Kernel = SVM_Kernel, slack_variable = slack_variable)\n",
    "                model_runs.append(predictionModel(w,a, kpca, PCA_Kernel, PCA_components, SVM_Kernel, slack_variable))\n",
    "end_time = time.monotonic()\n",
    "print(timedelta(seconds=end_time - start_time))\n",
    "print(timedelta(seconds=end_time - start_time) / 240)        \n"
   ]
  },
  {
   "cell_type": "code",
   "execution_count": 10,
   "id": "c3b6aeb8",
   "metadata": {},
   "outputs": [],
   "source": [
    "# Save the results in a pandas dataframe and push it into a csv file\n",
    "df = pd.DataFrame(columns=['PCA Kernal','PCA_Components','SVM Kernel', 'Slack Variable', 'Support Vectors', 'Unidentifiable Examples', 'Incorrect Examples', 'Correct Examples', 'Accuracy', 'Weights'])\n",
    "for i in model_runs: \n",
    "    exs_unid, exs_incorrect, exs_correct = i.performance_results(X_validation,y_validation)\n",
    "    df2 = {'PCA Kernal': i.PCA_Kernel,'PCA_Components': i.PCA_components,'SVM Kernel': i.SVM_Kernel, 'Slack Variable': i.slack_variable, 'Support Vectors': i.support_vectors, 'Unidentifiable Examples': exs_unid, 'Incorrect Examples': exs_incorrect, 'Correct Examples': exs_correct, 'Accuracy': exs_correct / (exs_unid + exs_incorrect + exs_correct), 'Weights': i.weights.sum()}\n",
    "    df = df.append(df2, ignore_index = True)\n",
    "df.to_csv('/Users/ssingson-robbins/Desktop/breast-cancer-classification-results.csv')"
   ]
  },
  {
   "cell_type": "code",
   "execution_count": 11,
   "id": "90276823",
   "metadata": {},
   "outputs": [
    {
     "name": "stdout",
     "output_type": "stream",
     "text": [
      "0:07:29.369025\n",
      "0:00:01.872371\n"
     ]
    }
   ],
   "source": [
    "#check time to run the models \n",
    "start_time = time.monotonic()\n",
    "model_runs = []    \n",
    "\n",
    "for PCA_components in range(1, 11, 1): \n",
    "    for PCA_Kernel in ['linear', 'poly', 'rbf', 'sigmoid']: \n",
    "   \n",
    "        kpca = KernelPCA(n_components = PCA_components, kernel = PCA_Kernel)\n",
    "        kpca_data = kpca.fit_transform(X_train) \n",
    "        \n",
    "        for SVM_Kernel in ['linear', 'rbf']: \n",
    "            for slack_variable in ['no', 'linear', 'squared']: \n",
    "                \n",
    "                a,w = SVM_scratch(kpca_data, y_train, SVM_Kernel = SVM_Kernel, slack_variable = slack_variable)\n",
    "                model_runs.append(predictionModel(w,a, kpca, PCA_Kernel, PCA_components, SVM_Kernel, slack_variable))\n",
    "end_time = time.monotonic()\n",
    "print(timedelta(seconds=end_time - start_time))\n",
    "print(timedelta(seconds=end_time - start_time) / 240)\n"
   ]
  },
  {
   "cell_type": "code",
   "execution_count": 13,
   "id": "b649c900",
   "metadata": {},
   "outputs": [
    {
     "name": "stdout",
     "output_type": "stream",
     "text": [
      "Accuracy: 0.9122807017543859\n"
     ]
    }
   ],
   "source": [
    "# Results of the final model\n",
    "PCA_components = 4\n",
    "PCA_Kernel = 'poly'\n",
    "SVM_Kernel = 'rbf' \n",
    "slack_variable = 'linear'  \n",
    "\n",
    "kpca = KernelPCA(n_components = PCA_components, kernel = PCA_Kernel)\n",
    "kpca_data = kpca.fit_transform(X_train) \n",
    "\n",
    "a,w = SVM_scratch(kpca_data, y_train, SVM_Kernel = SVM_Kernel, slack_variable = slack_variable)\n",
    "final_model = predictionModel(w,a, kpca, PCA_Kernel, PCA_components, SVM_Kernel, slack_variable)\n",
    "exs_unid, exs_incorrect, exs_correct = final_model.performance_results(X_test, y_test)\n",
    "print('Accuracy:', final_model.accuracy(X_test, y_test))"
   ]
  },
  {
   "cell_type": "code",
   "execution_count": null,
   "id": "031f9b22",
   "metadata": {},
   "outputs": [],
   "source": []
  }
 ],
 "metadata": {
  "kernelspec": {
   "display_name": "Python 3 (ipykernel)",
   "language": "python",
   "name": "python3"
  },
  "language_info": {
   "codemirror_mode": {
    "name": "ipython",
    "version": 3
   },
   "file_extension": ".py",
   "mimetype": "text/x-python",
   "name": "python",
   "nbconvert_exporter": "python",
   "pygments_lexer": "ipython3",
   "version": "3.9.7"
  }
 },
 "nbformat": 4,
 "nbformat_minor": 5
}
